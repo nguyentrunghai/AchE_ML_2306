{
 "cells": [
  {
   "cell_type": "code",
   "execution_count": null,
   "metadata": {},
   "outputs": [],
   "source": [
    "import os\n",
    "import glob\n",
    "import pandas as pd\n",
    "import numpy as np\n",
    "import deepchem as dc\n",
    "from pubchempy import get_cids, get_compounds\n",
    "\n",
    "import tensorflow as tf\n",
    "physical_devices = tf.config.list_physical_devices('GPU')\n",
    "tf.config.experimental.set_memory_growth(physical_devices[0], enable=True)\n",
    "\n",
    "import matplotlib.pyplot as plt\n",
    "import seaborn as sns\n",
    "\n",
    "from IPython.core.display import display, HTML\n",
    "display(HTML(\"<style>.container { width:100% !important; }</style>\"))\n",
    "\n",
    "from sklearn.base import BaseEstimator, TransformerMixin\n",
    "from sklearn.preprocessing import StandardScaler"
   ]
  },
  {
   "cell_type": "code",
   "execution_count": null,
   "metadata": {},
   "outputs": [],
   "source": [
    "def display_df(df):\n",
    "    display(HTML(df.to_html()))\n",
    "    return None"
   ]
  },
  {
   "cell_type": "code",
   "execution_count": null,
   "metadata": {},
   "outputs": [],
   "source": [
    "class CollinearColumnRemover(BaseEstimator, TransformerMixin):\n",
    "    def __init__(self, threshold, col_regex=None, exclude_cols=None):\n",
    "        \"\"\"\n",
    "        :param threshold: float in [0, 1], if two columns have correlation greater than threshold\n",
    "                          one of them will be removed\n",
    "        :param col_regex: str, regular expression to select columns\n",
    "        \"\"\"\n",
    "        self._threshold = threshold\n",
    "        self._col_regex = col_regex\n",
    "        if exclude_cols is None:\n",
    "            self._exclude_cols = []\n",
    "        else:\n",
    "            self._exclude_cols = exclude_cols\n",
    "    \n",
    "    def _collinear_columns(self, df, threshold):\n",
    "        if self._col_regex is None:\n",
    "            df_sel = df.select_dtypes([\"number\", \"bool\"])\n",
    "        else:\n",
    "            df_sel = df.filter(regex=self._col_regex)\n",
    "            df_sel = df_sel.select_dtypes([\"number\", \"bool\"])\n",
    "        \n",
    "        df_sel = df_sel.astype(\"float32\")\n",
    "        \n",
    "        all_cols = df_sel.columns.to_list()\n",
    "        all_cols = [col for col in all_cols if col not in self._exclude_cols]\n",
    "        df_sel = df_sel[all_cols]\n",
    "        ncols = len(all_cols)\n",
    "        \n",
    "        corr_mat = df_sel.corr().abs()\n",
    "        self._corr_mat = corr_mat\n",
    "        collin_cols = []\n",
    "        for i in range(ncols-1):\n",
    "            col_i = all_cols[i]\n",
    "            if col_i in collin_cols:\n",
    "                continue\n",
    "            \n",
    "            for j in range(i + 1, ncols):\n",
    "                col_j = all_cols[j]\n",
    "                if col_j in collin_cols:\n",
    "                    continue\n",
    "                \n",
    "                corr = corr_mat.loc[col_i, col_j]\n",
    "                if corr > threshold:\n",
    "                    collin_cols.append(col_j)\n",
    "        \n",
    "        collin_cols = list(set(collin_cols))\n",
    "        return collin_cols\n",
    "    \n",
    "    \n",
    "    def fit(self, df):\n",
    "        self._collin_cols = self._collinear_columns(df, self._threshold)\n",
    "        return self\n",
    "    \n",
    "    def transform(self, df):\n",
    "        all_cols = df.columns.to_list()\n",
    "        nonexist_cols = [col for col in self._collin_cols if col not in all_cols]\n",
    "        if len(nonexist_cols) > 0:\n",
    "            print(\"WARNING: These collinear cols to be droped do not exist in df:\", nonexist_cols)\n",
    "            \n",
    "        droped_col = [col for col in self._collin_cols if col in all_cols]\n",
    "        print(\"Number of columns droped due to collinearity:\", len(droped_col))\n",
    "        return df.drop(droped_col, axis=\"columns\")"
   ]
  },
  {
   "cell_type": "code",
   "execution_count": null,
   "metadata": {},
   "outputs": [],
   "source": [
    "class NumImputer(BaseEstimator, TransformerMixin):\n",
    "    def __init__(self, method=\"mean\", exclude_cols=None):\n",
    "        self._method = method\n",
    "        if exclude_cols is None:\n",
    "            self._exclude_cols = []\n",
    "        else:\n",
    "            self._exclude_cols = exclude_cols\n",
    "    \n",
    "    def fit(self, df_train):\n",
    "        num_cols = df_train.select_dtypes([\"number\"]).columns.to_list()\n",
    "        num_cols = [col for col in num_cols if col not in self._exclude_cols]\n",
    "        \n",
    "        self._train_cols = df_train.columns.to_list()\n",
    "        \n",
    "        self._impute_values = {}\n",
    "        for col in num_cols:\n",
    "            self._impute_values[col] = df_train[col].agg(self._method)\n",
    "        return self\n",
    "    \n",
    "    def transform(self, df):\n",
    "        df = df.copy()\n",
    "        cols = df.columns.to_list()\n",
    "        assert set(cols) == set(self._train_cols), \"Do not have the same set of cols as train\"\n",
    "        \n",
    "        for col, val in self._impute_values.items():\n",
    "            if df[col].isnull().sum() > 0:\n",
    "                df[col] = df[col].fillna(val)\n",
    "        \n",
    "        # align columns\n",
    "        df = df[self._train_cols]\n",
    "        return df\n",
    "    \n",
    "\n",
    "class CatImputer(BaseEstimator, TransformerMixin):\n",
    "    def __init__(self, val=\"MISSING\"):\n",
    "        self._val = val\n",
    "    \n",
    "    def fit(self, df_train):\n",
    "        cat_cols = df_train.select_dtypes([\"object\", \"category\", \"bool\"]).columns.to_list()\n",
    "        self._train_cols = df_train.columns.to_list()\n",
    "        \n",
    "        self._impute_values = {}\n",
    "        for col in cat_cols:\n",
    "            self._impute_values[col] = self._val\n",
    "        return self\n",
    "    \n",
    "    def transform(self, df):\n",
    "        df = df.copy()\n",
    "        cols = df.columns.to_list()\n",
    "        assert set(cols) == set(self._train_cols), \"Do not have the same set of cols as train\"\n",
    "        \n",
    "        for col, val in self._impute_values.items():\n",
    "            if df[col].isnull().sum() > 0:\n",
    "                df[col] = df[col].astype(\"object\").fillna(val).astype(\"category\")\n",
    "                \n",
    "        # align columns\n",
    "        df = df[self._train_cols]\n",
    "        return df"
   ]
  },
  {
   "cell_type": "code",
   "execution_count": null,
   "metadata": {},
   "outputs": [],
   "source": [
    "class Standardizer(BaseEstimator, TransformerMixin):\n",
    "    def __init__(self, exclude_cols=None, to_array=False):\n",
    "        if exclude_cols is None:\n",
    "            self._exclude_cols = []\n",
    "        else:\n",
    "            self._exclude_cols = exclude_cols\n",
    "            \n",
    "        self._to_array = to_array\n",
    "        \n",
    "    def fit(self, df_train):\n",
    "        num_cols = df_train.select_dtypes([\"number\"]).columns.to_list()\n",
    "        num_cols = [col for col in num_cols if col not in self._exclude_cols]\n",
    "        \n",
    "        self._mean = {col: df_train[col].mean() for col in num_cols}\n",
    "        self._std = {col: df_train[col].std() for col in num_cols}\n",
    "        return self\n",
    "    \n",
    "    def transform(self, df):\n",
    "        for col in self._mean:\n",
    "            if self._std[col] > 0:\n",
    "                df[col] = (df[col] - self._mean[col]) / self._std[col]\n",
    "                df[col] = df[col].astype(\"float32\")\n",
    "            else:\n",
    "                print(\"WARNING: \" + col + \" has zero std.\")\n",
    "                df[col] = df[col] - self._mean[col]\n",
    "                df[col] = df[col].astype(\"float32\")\n",
    "                \n",
    "        if self._to_array:\n",
    "            return df.values.astype(np.float32)\n",
    "        else:\n",
    "            return df"
   ]
  },
  {
   "cell_type": "code",
   "execution_count": null,
   "metadata": {},
   "outputs": [],
   "source": [
    "assert False"
   ]
  },
  {
   "cell_type": "markdown",
   "metadata": {},
   "source": [
    "# pdY"
   ]
  },
  {
   "cell_type": "code",
   "execution_count": null,
   "metadata": {},
   "outputs": [],
   "source": [
    "assert False\n",
    "\n",
    "df_ache = pd.read_excel(\"data/raw/AchE.xlsx\", sheet_name=\"ki_data_clean\")\n",
    "\n",
    "df_ache[\"new_id\"] = np.arange(df_ache.shape[0])\n",
    "df_ache[\"new_id\"] = \"_\" + df_ache[\"new_id\"].astype(str)\n",
    "df_ache = df_ache.rename(columns={\"Ligand SMILES\": \"smiles\"})\n",
    "\n",
    "print(\"df_ache\", df_ache.shape)\n",
    "display_df(df_ache.head())\n",
    "\n",
    "df_ache[\"is_lower_bound\"] = df_ache[\"Ki (nM)\"].astype(str).apply(lambda s: s.startswith(\">\")).astype(int)\n",
    "print(\"Number lower bound\", df_ache[\"is_lower_bound\"].sum())\n",
    "df_ache[\"is_upper_bound\"] = df_ache[\"Ki (nM)\"].astype(str).apply(lambda s: s.startswith(\"<\")).astype(int)\n",
    "print(\"Number upper bound\", df_ache[\"is_upper_bound\"].sum())\n",
    "\n",
    "# for lower bound cases we will multiply by 1.1\n",
    "df_ache[\"ki_clean\"] = df_ache[\"Ki (nM)\"].astype(str).apply(lambda s: s.replace(\">\", \"\").replace(\"<\", \"\")).astype(float)\n",
    "df_ache.loc[df_ache[\"is_lower_bound\"] == 1, [\"ki_clean\"]] *= 1.1\n",
    "df_ache.loc[df_ache[\"is_upper_bound\"] == 1, [\"ki_clean\"]] *= 0.9\n",
    "print(\"df_ache\", df_ache.shape)\n",
    "\n",
    "df_ache[\"code\"] = \"labeled\"\n",
    "RT = 0.593\n",
    "df_ache[\"dG\"] = RT * np.log(df_ache[\"ki_clean\"]*1e-09)\n",
    "\n",
    "df_ache[\"smiles_len\"] = df_ache[\"smiles\"].apply(lambda x: len(x))\n",
    "\n",
    "print(\"df_ache\", df_ache.shape)\n",
    "display_df(df_ache[[\"new_id\", \"smiles\", \"dG\", \"code\", \"smiles_len\"]].head())\n",
    "\n",
    "# dont need to remove long smiles\n",
    "print(\"smile len\", df_ache[\"smiles_len\"].min(), df_ache[\"smiles_len\"].max())\n",
    "\n",
    "\n",
    "# remove samples which deviate too much from mean\n",
    "df01 = df_ache.groupby([\"smiles\"], as_index=False).agg({\"new_id\": \"count\", \"dG\": [\"min\", \"max\", \"mean\"]})\n",
    "df01.columns = [\"smiles\", \"count\", \"dG_min\", \"dG_max\", \"dG_mean\"]\n",
    "df01[\"diff\"] = df01[\"dG_max\"] - df01[\"dG_min\"]\n",
    "print(\"df01\", df01.shape)\n",
    "display_df(df01.head())\n",
    "\n",
    "df_ache = df_ache.merge(df01[[\"smiles\", \"dG_mean\", \"count\"]], how=\"left\", on=\"smiles\")\n",
    "df_ache[\"abs_dG_diff\"] =  (df_ache[\"dG\"] - df_ache[\"dG_mean\"]).abs()\n",
    "print(\"df_ache\", df_ache.shape)\n",
    "display_df(df_ache.head())\n",
    "\n",
    "df_ache = df_ache[df_ache[\"abs_dG_diff\"] <= 2.5]\n",
    "print(\"df_ache\", df_ache.shape)\n",
    "display_df(df_ache.head())\n",
    "\n",
    "\n",
    "df_ache.to_csv(\"data/process/ache_clean.csv\", index=False)"
   ]
  },
  {
   "cell_type": "markdown",
   "metadata": {},
   "source": [
    "# train/test\n",
    "\n",
    "use the same test set as before"
   ]
  },
  {
   "cell_type": "code",
   "execution_count": null,
   "metadata": {},
   "outputs": [],
   "source": [
    "assert False\n",
    "\n",
    "# tvt before\n",
    "tvt_bef = pd.read_csv(\"/home/hai/Compound_Screen/AchE_ML/data/process/pdY.csv\")\n",
    "tvt_bef = tvt_bef.loc[tvt_bef[\"code\"]==\"labeled_pubchem\", [\"smiles\", \"train_test\"]]\n",
    "print(\"tvt_bef\", tvt_bef.shape, tvt_bef[\"smiles\"].nunique())\n",
    "display_df(tvt_bef.head())\n",
    "\n",
    "df_tvt = pd.read_csv(\"data/process/ache_clean.csv\")\n",
    "print(\"df_tvt\", df_tvt.shape)\n",
    "df_tvt = df_tvt[[\"smiles\"]].drop_duplicates()\n",
    "print(\"df_tvt\", df_tvt.shape)\n",
    "display_df(df_tvt.head())\n",
    "\n",
    "df_tvt = df_tvt.merge(tvt_bef, how=\"left\", on=\"smiles\")\n",
    "print(\"df_tvt\", df_tvt.shape)\n",
    "display_df(df_tvt.head())\n",
    "\n",
    "n_extra = df_tvt[\"train_test\"].isnull().sum()\n",
    "ntest2 = 200\n",
    "tvt_extra = [\"test\"]*ntest2 + [\"train\"]*(n_extra - ntest2)\n",
    "np.random.seed(42)\n",
    "np.random.shuffle(tvt_extra)\n",
    "df_tvt.loc[df_tvt[\"train_test\"].isnull(), \"train_test\"] = tvt_extra\n",
    "print(\"df_tvt\", df_tvt.shape)\n",
    "display_df(df_tvt.head())\n",
    "\n",
    "df_tvt.to_csv(\"data/process/tvt.csv\", index=False)"
   ]
  },
  {
   "cell_type": "markdown",
   "metadata": {},
   "source": [
    "## labeled pdY for regression"
   ]
  },
  {
   "cell_type": "code",
   "execution_count": null,
   "metadata": {},
   "outputs": [],
   "source": [
    "assert False\n",
    "\n",
    "pdY = pd.read_csv(\"data/process/ache_clean.csv\")\n",
    "pdY = pdY[[\"new_id\", \"smiles\", \"code\", \"smiles_len\", \"dG\"]]\n",
    "print(\"pdY\", pdY.shape)\n",
    "display_df(pdY.head())\n",
    "\n",
    "df_tvt = pd.read_csv(\"data/process/tvt.csv\")\n",
    "print(\"df_tvt\", df_tvt.shape)\n",
    "display_df(df_tvt.head())\n",
    "\n",
    "pdY = pdY.merge(df_tvt, how=\"left\", on=\"smiles\")\n",
    "print(\"pdY\", pdY.shape)\n",
    "display_df(pdY.head())\n",
    "\n",
    "pdY.to_csv(\"data/process/pdY_labeled_reg.csv\", index=False)"
   ]
  },
  {
   "cell_type": "code",
   "execution_count": null,
   "metadata": {},
   "outputs": [],
   "source": [
    "pd.read_csv(\"data/process/pdY_labeled_reg.csv\").head()"
   ]
  },
  {
   "cell_type": "markdown",
   "metadata": {},
   "source": [
    "## NCI"
   ]
  },
  {
   "cell_type": "code",
   "execution_count": null,
   "metadata": {},
   "outputs": [],
   "source": [
    "assert False\n",
    "\n",
    "df_nci = pd.read_csv(\"data/raw/nci.smi\", sep=\"\\s+\", header=None, dtype={0:str, 1: str, 2:str})\n",
    "print(df_nci.shape)\n",
    "df_nci.columns = [\"smiles\", \"source\", \"id\"]\n",
    "df_nci[\"code\"] = \"nci\"\n",
    "df_nci[\"new_id\"] = np.arange(df_nci.shape[0])\n",
    "df_nci[\"new_id\"] = \"_\" + df_nci[\"new_id\"].astype(str)\n",
    "\n",
    "df_nci[\"smiles_len\"] = df_nci[\"smiles\"].apply(lambda x: len(x))\n",
    "df_nci[\"dG\"] = np.nan\n",
    "\n",
    "print(df_nci.shape)\n",
    "display_df(df_nci.head())\n",
    "\n",
    "df_nci.to_csv(\"data/process/nci_clean.csv\", index=False)"
   ]
  },
  {
   "cell_type": "code",
   "execution_count": null,
   "metadata": {},
   "outputs": [],
   "source": [
    "assert True\n",
    "\n",
    "pdY = pd.read_csv(\"data/process/nci_clean.csv\")\n",
    "pdY = pdY[[\"new_id\", \"smiles\", \"code\", \"smiles_len\", \"dG\"]]\n",
    "pdY[\"train_test\"] = \"pred\"\n",
    "print(\"pdY\", pdY.shape)\n",
    "display_df(pdY.head())\n",
    "pdY.to_csv(\"data/process/pdY_nci.csv\", index=False)"
   ]
  },
  {
   "cell_type": "code",
   "execution_count": null,
   "metadata": {},
   "outputs": [],
   "source": [
    "df_nci = pd.read_csv(\"data/raw/nci.smi\", sep=\"\\s+\", header=None, dtype={0:str, 1: str, 2:str})\n",
    "print(df_nci.shape)\n",
    "display_df(df_nci.head())"
   ]
  },
  {
   "cell_type": "markdown",
   "metadata": {},
   "source": [
    "# pdX"
   ]
  },
  {
   "cell_type": "markdown",
   "metadata": {},
   "source": [
    "## Extract RDKitDescriptors"
   ]
  },
  {
   "cell_type": "markdown",
   "metadata": {},
   "source": [
    "### labeled set"
   ]
  },
  {
   "cell_type": "code",
   "execution_count": null,
   "metadata": {},
   "outputs": [],
   "source": [
    "assert False\n",
    "\n",
    "pdY_labeled = pd.read_csv(\"data/process/pdY_labeled_reg.csv\")\n",
    "print(\"pdY_labeled\", pdY_labeled.shape)\n",
    "display_df(pdY_labeled.head())\n",
    "\n",
    "rdkit_featurizer = dc.feat.RDKitDescriptors()\n",
    "X = rdkit_featurizer(pdY_labeled[\"smiles\"])\n",
    "\n",
    "X1 = []\n",
    "for y in X:\n",
    "    if y.shape[0] > 0:\n",
    "        X1.append(y.tolist())\n",
    "    else:\n",
    "        y = [np.nan]*200\n",
    "        X1.append(y)\n",
    "X1 = np.array(X1)\n",
    "\n",
    "X2 = pd.DataFrame(X1, columns=rdkit_featurizer.descriptors)\n",
    "X2[\"new_id\"] = pdY_labeled[\"new_id\"]\n",
    "X2[\"smiles\"] = pdY_labeled[\"smiles\"]\n",
    "X2[\"dG\"] = pdY_labeled[\"dG\"]\n",
    "X2[\"code\"] = pdY_labeled[\"code\"]\n",
    "X2[\"train_test\"] = pdY_labeled[\"train_test\"]\n",
    "X2[\"smiles_len\"] = pdY_labeled[\"smiles_len\"]\n",
    "display_df(X2.head())\n",
    "if True:\n",
    "    X2.to_csv(\"data/process/pdXY_labeled_rdkit_descriptors_200ft.csv\", index=False)"
   ]
  },
  {
   "cell_type": "markdown",
   "metadata": {},
   "source": [
    "## nci"
   ]
  },
  {
   "cell_type": "code",
   "execution_count": null,
   "metadata": {},
   "outputs": [],
   "source": [
    "assert False\n",
    "\n",
    "pdY_nci = pd.read_csv(\"data/process/pdY_nci.csv\")\n",
    "print(\"pdY_nci\", pdY_nci.shape)\n",
    "display_df(pdY_nci.head())\n",
    "\n",
    "rdkit_featurizer = dc.feat.RDKitDescriptors()\n",
    "X = rdkit_featurizer(pdY_nci[\"smiles\"])\n",
    "\n",
    "X1 = []\n",
    "for y in X:\n",
    "    if y.shape[0] > 0:\n",
    "        X1.append(y.tolist())\n",
    "    else:\n",
    "        y = [np.nan]*200\n",
    "        X1.append(y)\n",
    "X1 = np.array(X1)\n",
    "\n",
    "X2 = pd.DataFrame(X1, columns=rdkit_featurizer.descriptors)\n",
    "X2[\"new_id\"] = pdY_nci[\"new_id\"]\n",
    "X2[\"smiles\"] = pdY_nci[\"smiles\"]\n",
    "X2[\"dG\"] = pdY_nci[\"dG\"]\n",
    "X2[\"code\"] = pdY_nci[\"code\"]\n",
    "X2[\"train_test\"] = pdY_nci[\"train_test\"]\n",
    "X2[\"smiles_len\"] = pdY_nci[\"smiles_len\"]\n",
    "display_df(X2.head())\n",
    "if True:\n",
    "    X2.to_csv(\"data/process/pdXY_nci_rdkit_descriptors_200ft.csv\", index=False)\n",
    "    \n",
    "# there are 52 compunds whose smiles not matching"
   ]
  },
  {
   "cell_type": "markdown",
   "metadata": {},
   "source": [
    "## Remove mostly zero columns"
   ]
  },
  {
   "cell_type": "code",
   "execution_count": null,
   "metadata": {},
   "outputs": [],
   "source": [
    "assert True\n",
    "\n",
    "pdXY_labeled = pd.read_csv(\"data/process/pdXY_labeled_rdkit_descriptors_200ft.csv\")\n",
    "print(pdXY_labeled.shape)\n",
    "display_df(pdXY_labeled.head())\n",
    "\n",
    "PDY_COLS = [\"new_id\", \"smiles\", \"dG\", \"code\", \"train_test\", \"smiles_len\"]\n",
    "PDX_COLS = [col for col in pdXY_labeled.columns if col not in PDY_COLS]\n",
    "\n",
    "pdXY_train = pdXY_labeled[pdXY_labeled[\"train_test\"] == \"train\"].copy()\n",
    "\n",
    "mostly_zero_cols = []\n",
    "for col in PDX_COLS:\n",
    "    zero_rate = (pdXY_train[col] == 0).mean()\n",
    "    if zero_rate > 0.95:\n",
    "        print(\"{}    {}\".format(col, zero_rate))\n",
    "        mostly_zero_cols.append(col)\n",
    "\n",
    "print(\"mostly_zero_cols\", len(mostly_zero_cols))\n",
    "print(\"there remain {}\".format(len(PDX_COLS) - len(mostly_zero_cols)))\n",
    "\n",
    "pdXY_labeled = pdXY_labeled.drop(mostly_zero_cols, axis=1)\n",
    "print(pdXY_labeled.shape)\n",
    "display_df(pdXY_labeled.head())\n",
    "\n",
    "pdXY_labeled.to_csv(\"data/process/pdXY_labeled_rdkit_descriptors_135ft.csv\", index=False)"
   ]
  },
  {
   "cell_type": "markdown",
   "metadata": {},
   "source": [
    "## nci"
   ]
  },
  {
   "cell_type": "code",
   "execution_count": null,
   "metadata": {},
   "outputs": [],
   "source": [
    "assert False\n",
    "\n",
    "pdXY_labeled = pd.read_csv(\"data/process/pdXY_labeled_rdkit_descriptors_200ft.csv\")\n",
    "print(pdXY_labeled.shape)\n",
    "display_df(pdXY_labeled.head())\n",
    "\n",
    "PDY_COLS = [\"new_id\", \"smiles\", \"dG\", \"code\", \"train_test\", \"smiles_len\"]\n",
    "PDX_COLS = [col for col in pdXY_labeled.columns if col not in PDY_COLS]\n",
    "\n",
    "pdXY_train = pdXY_labeled[pdXY_labeled[\"train_test\"] == \"train\"].copy()\n",
    "\n",
    "mostly_zero_cols = []\n",
    "for col in PDX_COLS:\n",
    "    zero_rate = (pdXY_train[col] == 0).mean()\n",
    "    if zero_rate > 0.95:\n",
    "        print(\"{}    {}\".format(col, zero_rate))\n",
    "        mostly_zero_cols.append(col)\n",
    "\n",
    "print(\"mostly_zero_cols\", len(mostly_zero_cols))\n",
    "print(\"there remain {}\".format(len(PDX_COLS) - len(mostly_zero_cols)))\n",
    "\n",
    "pdXY_nci = pd.read_csv(\"data/process/pdXY_nci_rdkit_descriptors_200ft.csv\")\n",
    "print(pdXY_nci.shape)\n",
    "pdXY_nci = pdXY_nci.drop(mostly_zero_cols, axis=1)\n",
    "print(pdXY_nci.shape)\n",
    "display_df(pdXY_nci.head())\n",
    "\n",
    "pdXY_nci.to_csv(\"data/process/pdXY_nci_rdkit_descriptors_135ft.csv\", index=False)"
   ]
  },
  {
   "cell_type": "markdown",
   "metadata": {},
   "source": [
    "## Remove correlated columns"
   ]
  },
  {
   "cell_type": "markdown",
   "metadata": {},
   "source": [
    "### labeled set"
   ]
  },
  {
   "cell_type": "code",
   "execution_count": null,
   "metadata": {},
   "outputs": [],
   "source": [
    "assert True\n",
    "\n",
    "pdXY_labeled = pd.read_csv(\"data/process/pdXY_labeled_rdkit_descriptors_135ft.csv\")\n",
    "print(pdXY_labeled.shape)\n",
    "display_df(pdXY_labeled.head())\n",
    "\n",
    "PDY_COLS = [\"new_id\", \"smiles\", \"dG\", \"code\", \"train_test\", \"smiles_len\"]\n",
    "PDX_COLS = [col for col in pdXY_labeled.columns if col not in PDY_COLS]\n",
    "print(\"PDX_COLS\", len(PDX_COLS))\n",
    "\n",
    "pdXY_train = pdXY_labeled[pdXY_labeled[\"train_test\"] == \"train\"].copy()\n",
    "print(\"pdXY_train\", pdXY_train.shape)\n",
    "\n",
    "remover = CollinearColumnRemover(0.95, exclude_cols=PDY_COLS)\n",
    "remover.fit(pdXY_train)\n",
    "\n",
    "pdXY_labeled = remover.transform(pdXY_labeled)\n",
    "print(pdXY_labeled.shape)\n",
    "display_df(pdXY_labeled.head())\n",
    "\n",
    "pdXY_labeled.to_csv(\"data/process/pdXY_labeled_rdkit_descriptors_108ft.csv\", index=False)"
   ]
  },
  {
   "cell_type": "markdown",
   "metadata": {},
   "source": [
    "## nci"
   ]
  },
  {
   "cell_type": "code",
   "execution_count": null,
   "metadata": {},
   "outputs": [],
   "source": [
    "assert False\n",
    "\n",
    "pdXY_labeled = pd.read_csv(\"data/process/pdXY_labeled_rdkit_descriptors_135ft.csv\")\n",
    "print(pdXY_labeled.shape)\n",
    "display_df(pdXY_labeled.head())\n",
    "\n",
    "PDY_COLS = [\"new_id\", \"smiles\", \"dG\", \"code\", \"train_test\", \"smiles_len\"]\n",
    "PDX_COLS = [col for col in pdXY_labeled.columns if col not in PDY_COLS]\n",
    "print(\"PDX_COLS\", len(PDX_COLS))\n",
    "\n",
    "pdXY_train = pdXY_labeled[pdXY_labeled[\"train_test\"] == \"train\"].copy()\n",
    "print(\"pdXY_train\", pdXY_train.shape)\n",
    "\n",
    "remover = CollinearColumnRemover(0.95, exclude_cols=PDY_COLS)\n",
    "remover.fit(pdXY_train)\n",
    "\n",
    "pdXY_nci = pd.read_csv(\"data/process/pdXY_nci_rdkit_descriptors_135ft.csv\")\n",
    "print(pdXY_nci.shape)\n",
    "pdXY_nci = remover.transform(pdXY_nci)\n",
    "print(pdXY_nci.shape)\n",
    "display_df(pdXY_nci.head())\n",
    "\n",
    "pdXY_nci.to_csv(\"data/process/pdXY_nci_rdkit_descriptors_108ft.csv\", index=False)"
   ]
  },
  {
   "cell_type": "markdown",
   "metadata": {},
   "source": [
    "## Impute missing values"
   ]
  },
  {
   "cell_type": "markdown",
   "metadata": {},
   "source": [
    "### labeled set"
   ]
  },
  {
   "cell_type": "code",
   "execution_count": null,
   "metadata": {},
   "outputs": [],
   "source": [
    "assert True\n",
    "\n",
    "pdXY_labeled = pd.read_csv(\"data/process/pdXY_labeled_rdkit_descriptors_108ft.csv\")\n",
    "print(pdXY_labeled.shape)\n",
    "display_df(pdXY_labeled.head())\n",
    "\n",
    "PDY_COLS = [\"new_id\", \"smiles\", \"dG\", \"code\", \"train_test\", \"smiles_len\"]\n",
    "PDX_COLS = [col for col in pdXY_labeled.columns if col not in PDY_COLS]\n",
    "print(\"PDX_COLS\", len(PDX_COLS))\n",
    "\n",
    "pdXY_train = pdXY_labeled[pdXY_labeled[\"train_test\"] == \"train\"].copy()\n",
    "print(\"pdXY_train\", pdXY_train.shape)\n",
    "\n",
    "imputer = NumImputer(method=\"median\", exclude_cols=PDY_COLS)\n",
    "imputer.fit(pdXY_train)\n",
    "\n",
    "pdXY_labeled = imputer.transform(pdXY_labeled)\n",
    "print(pdXY_labeled.shape)\n",
    "display_df(pdXY_labeled.head())\n",
    "\n",
    "pdXY_labeled.to_csv(\"data/process/pdXY_labeled_rdkit_descriptors_108ft_imputed.csv\", index=False)"
   ]
  },
  {
   "cell_type": "markdown",
   "metadata": {},
   "source": [
    "## nci"
   ]
  },
  {
   "cell_type": "code",
   "execution_count": null,
   "metadata": {},
   "outputs": [],
   "source": [
    "assert False\n",
    "\n",
    "pdXY_labeled = pd.read_csv(\"data/process/pdXY_labeled_rdkit_descriptors_108ft.csv\")\n",
    "print(pdXY_labeled.shape)\n",
    "display_df(pdXY_labeled.head())\n",
    "\n",
    "PDY_COLS = [\"new_id\", \"smiles\", \"dG\", \"code\", \"train_test\", \"smiles_len\"]\n",
    "PDX_COLS = [col for col in pdXY_labeled.columns if col not in PDY_COLS]\n",
    "print(\"PDX_COLS\", len(PDX_COLS))\n",
    "\n",
    "pdXY_train = pdXY_labeled[pdXY_labeled[\"train_test\"] == \"train\"].copy()\n",
    "print(\"pdXY_train\", pdXY_train.shape)\n",
    "\n",
    "imputer = NumImputer(method=\"median\", exclude_cols=PDY_COLS)\n",
    "imputer.fit(pdXY_train)\n",
    "\n",
    "pdXY_nci = pd.read_csv(\"data/process/pdXY_nci_rdkit_descriptors_108ft.csv\")\n",
    "print(pdXY_nci.shape)\n",
    "pdXY_nci = imputer.transform(pdXY_nci)\n",
    "print(pdXY_nci.shape)\n",
    "display_df(pdXY_nci.head())\n",
    "\n",
    "pdXY_nci.to_csv(\"data/process/pdXY_nci_rdkit_descriptors_108ft_imputed.csv\", index=False)"
   ]
  },
  {
   "cell_type": "markdown",
   "metadata": {},
   "source": [
    "## Standardize"
   ]
  },
  {
   "cell_type": "markdown",
   "metadata": {},
   "source": [
    "### labeled set"
   ]
  },
  {
   "cell_type": "code",
   "execution_count": null,
   "metadata": {},
   "outputs": [],
   "source": [
    "assert True\n",
    "\n",
    "pdXY_labeled = pd.read_csv(\"data/process/pdXY_labeled_rdkit_descriptors_108ft_imputed.csv\")\n",
    "print(pdXY_labeled.shape)\n",
    "display_df(pdXY_labeled.head())\n",
    "\n",
    "PDY_COLS = [\"new_id\", \"smiles\", \"dG\", \"code\", \"train_test\", \"smiles_len\"]\n",
    "PDX_COLS = [col for col in pdXY_labeled.columns if col not in PDY_COLS]\n",
    "print(\"PDX_COLS\", len(PDX_COLS))\n",
    "\n",
    "pdXY_train = pdXY_labeled[pdXY_labeled[\"train_test\"] == \"train\"].copy()\n",
    "print(\"pdXY_train\", pdXY_train.shape)\n",
    "\n",
    "std = Standardizer(exclude_cols=PDY_COLS)\n",
    "std.fit(pdXY_train)\n",
    "\n",
    "pdXY_labeled = std.transform(pdXY_labeled)\n",
    "print(pdXY_labeled.shape)\n",
    "display_df(pdXY_labeled.head())\n",
    "\n",
    "pdXY_labeled.to_csv(\"data/process/pdXY_labeled_rdkit_descriptors_108ft_imputed_std.csv\", index=False)"
   ]
  },
  {
   "cell_type": "markdown",
   "metadata": {},
   "source": [
    "## nci"
   ]
  },
  {
   "cell_type": "code",
   "execution_count": null,
   "metadata": {},
   "outputs": [],
   "source": [
    "assert True\n",
    "\n",
    "pdXY_labeled = pd.read_csv(\"data/process/pdXY_labeled_rdkit_descriptors_108ft_imputed.csv\")\n",
    "print(pdXY_labeled.shape)\n",
    "display_df(pdXY_labeled.head())\n",
    "\n",
    "PDY_COLS = [\"new_id\", \"smiles\", \"dG\", \"code\", \"train_test\", \"smiles_len\"]\n",
    "PDX_COLS = [col for col in pdXY_labeled.columns if col not in PDY_COLS]\n",
    "print(\"PDX_COLS\", len(PDX_COLS))\n",
    "\n",
    "pdXY_train = pdXY_labeled[pdXY_labeled[\"train_test\"] == \"train\"].copy()\n",
    "print(\"pdXY_train\", pdXY_train.shape)\n",
    "\n",
    "std = Standardizer(exclude_cols=PDY_COLS)\n",
    "std.fit(pdXY_train)\n",
    "\n",
    "pdXY_nci = pd.read_csv(\"data/process/pdXY_nci_rdkit_descriptors_108ft_imputed.csv\")\n",
    "print(pdXY_nci.shape)\n",
    "pdXY_nci = std.transform(pdXY_nci)\n",
    "print(pdXY_nci.shape)\n",
    "display_df(pdXY_nci.head())\n",
    "\n",
    "pdXY_nci.to_csv(\"data/process/pdXY_nci_rdkit_descriptors_108ft_imputed_std.csv\", index=False)"
   ]
  }
 ],
 "metadata": {
  "kernelspec": {
   "display_name": "Python 3",
   "language": "python",
   "name": "python3"
  },
  "language_info": {
   "codemirror_mode": {
    "name": "ipython",
    "version": 3
   },
   "file_extension": ".py",
   "mimetype": "text/x-python",
   "name": "python",
   "nbconvert_exporter": "python",
   "pygments_lexer": "ipython3",
   "version": "3.7.3"
  }
 },
 "nbformat": 4,
 "nbformat_minor": 4
}
